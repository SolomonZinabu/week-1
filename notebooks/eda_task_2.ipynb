{
 "cells": [
  {
   "cell_type": "code",
   "execution_count": 4,
   "metadata": {},
   "outputs": [
    {
     "name": "stdout",
     "output_type": "stream",
     "text": [
      "Current directory d:\\Projects\\SolomonProjects\\Kifiya\\week 1\\task-1\\notebooks\n",
      "parrent dir d:\\Projects\\SolomonProjects\\Kifiya\\week 1\\task-1\n"
     ]
    }
   ],
   "source": [
    "import sys\n",
    "import os\n",
    "current_dir = os.getcwd()\n",
    "print ('Current directory', current_dir)\n",
    "parent_dir = os.path.dirname(current_dir)\n",
    "print('parrent dir', parent_dir)\n",
    "sys.path.insert(0, parent_dir)"
   ]
  },
  {
   "cell_type": "code",
   "execution_count": 5,
   "metadata": {},
   "outputs": [],
   "source": [
    "# Import necessary modules\n",
    "from scripts.data_loader import load_stock_data"
   ]
  },
  {
   "cell_type": "code",
   "execution_count": 6,
   "metadata": {},
   "outputs": [
    {
     "name": "stdout",
     "output_type": "stream",
     "text": [
      "AAPL_historical_data          Date      Open      High       Low     Close  Adj Close     Volume  \\\n",
      "0  1980-12-12  0.128348  0.128906  0.128348  0.128348   0.098943  469033600   \n",
      "1  1980-12-15  0.122210  0.122210  0.121652  0.121652   0.093781  175884800   \n",
      "2  1980-12-16  0.113281  0.113281  0.112723  0.112723   0.086898  105728000   \n",
      "3  1980-12-17  0.115513  0.116071  0.115513  0.115513   0.089049   86441600   \n",
      "4  1980-12-18  0.118862  0.119420  0.118862  0.118862   0.091630   73449600   \n",
      "\n",
      "   Dividends  Stock Splits  \n",
      "0        0.0           0.0  \n",
      "1        0.0           0.0  \n",
      "2        0.0           0.0  \n",
      "3        0.0           0.0  \n",
      "4        0.0           0.0  \n"
     ]
    }
   ],
   "source": [
    "# Load stock data\n",
    "\n",
    "aapl_data = load_stock_data('../Data/yfinance_data/AAPL_historical_data.csv')\n",
    "print('AAPL_historical_data', aapl_data.head())\n",
    "amzn_data = load_stock_data('../Data/yfinance_data/AMZN_historical_data.csv')\n",
    "goog_data = load_stock_data('../Data/yfinance_data/GOOG_historical_data.csv')\n",
    "meta_data = load_stock_data('../Data/yfinance_data/META_historical_data.csv')\n",
    "msft_data = load_stock_data('../Data/yfinance_data/MSFT_historical_data.csv')\n",
    "nyda_data = load_stock_data('../Data/yfinance_data/NVDA_historical_data.csv')\n",
    "tsla_data = load_stock_data('../Data/yfinance_data/TSLA_historical_data.csv')"
   ]
  }
 ],
 "metadata": {
  "kernelspec": {
   "display_name": "venv",
   "language": "python",
   "name": "python3"
  },
  "language_info": {
   "codemirror_mode": {
    "name": "ipython",
    "version": 3
   },
   "file_extension": ".py",
   "mimetype": "text/x-python",
   "name": "python",
   "nbconvert_exporter": "python",
   "pygments_lexer": "ipython3",
   "version": "3.12.5"
  }
 },
 "nbformat": 4,
 "nbformat_minor": 2
}

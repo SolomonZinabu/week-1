{
 "cells": [
  {
   "cell_type": "code",
   "execution_count": null,
   "metadata": {},
   "outputs": [],
   "source": [
    "import sys\n",
    "import os\n",
    "current_dir = os.getcwd()\n",
    "print ('Current directory', current_dir)\n",
    "parent_dir = os.path.dirname(current_dir)\n",
    "print('parrent dir', parent_dir)\n",
    "sys.path.insert(0, parent_dir)"
   ]
  },
  {
   "cell_type": "code",
   "execution_count": null,
   "metadata": {},
   "outputs": [],
   "source": [
    "# Import necessary modules\n",
    "from scripts.data_loader import load_stock_data"
   ]
  },
  {
   "cell_type": "code",
   "execution_count": null,
   "metadata": {},
   "outputs": [],
   "source": [
    "# Load stock data\n",
    "\n",
    "aapl_data = load_stock_data('../Data/yfinance_data/AAPL_historical_data.csv')\n",
    "amzn_data = load_stock_data('../Data/yfinance_data/AMZN_historical_data.csv')\n",
    "goog_data = load_stock_data('../Data/yfinance_data/GOOG_historical_data.csv')\n",
    "meta_data = load_stock_data('../Data/yfinance_data/META_historical_data.csv')\n",
    "msft_data = load_stock_data('../Data/yfinance_data/MSFT_historical_data.csv')\n",
    "nyda_data = load_stock_data('../Data/yfinance_data/NVDA_historical_data.csv')\n",
    "tsla_data = load_stock_data('../Data/yfinance_data/TSLA_historical_data.csv')\n",
    "print('AAPL_historical_data', aapl_data.head())\n",
    "print('AMAN_historical_data', amzn_data.head())\n",
    "print('GOOF_historical_data', goog_data.head())\n",
    "print('META_historical_data', meta_data.head())\n",
    "print('MSFT_historical_data', msft_data.head())\n",
    "print('NVDA_historical_data', nyda_data.head())\n",
    "print('TSLA_historical_data', tsla_data.head())\n"
   ]
  }
 ],
 "metadata": {
  "kernelspec": {
   "display_name": "venv",
   "language": "python",
   "name": "python3"
  },
  "language_info": {
   "codemirror_mode": {
    "name": "ipython",
    "version": 3
   },
   "file_extension": ".py",
   "mimetype": "text/x-python",
   "name": "python",
   "nbconvert_exporter": "python",
   "pygments_lexer": "ipython3",
   "version": "3.12.5"
  }
 },
 "nbformat": 4,
 "nbformat_minor": 2
}

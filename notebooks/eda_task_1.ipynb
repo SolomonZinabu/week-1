{
 "cells": [
  {
   "cell_type": "code",
   "execution_count": 1,
   "metadata": {},
   "outputs": [
    {
     "name": "stdout",
     "output_type": "stream",
     "text": [
      "Current directory d:\\Projects\\SolomonProjects\\Kifiya\\week 1\\task-1\\notebooks\n",
      "parrent dir d:\\Projects\\SolomonProjects\\Kifiya\\week 1\\task-1\n"
     ]
    }
   ],
   "source": [
    "import sys\n",
    "import os\n",
    "current_dir = os.getcwd()\n",
    "print ('Current directory', current_dir)\n",
    "parent_dir = os.path.dirname(current_dir)\n",
    "print('parrent dir', parent_dir)\n",
    "sys.path.insert(0, parent_dir)"
   ]
  },
  {
   "cell_type": "code",
   "execution_count": 2,
   "metadata": {},
   "outputs": [
    {
     "name": "stderr",
     "output_type": "stream",
     "text": [
      "[nltk_data] Downloading package vader_lexicon to\n",
      "[nltk_data]     C:\\Users\\solom\\AppData\\Roaming\\nltk_data...\n",
      "[nltk_data]   Package vader_lexicon is already up-to-date!\n"
     ]
    }
   ],
   "source": [
    "# Import necessary modules\n",
    "from scripts.data_loader import load_analyst_data\n",
    "from scripts.descriptive_statistics import headline_length_statistics, count_articles_by_publisher, analyze_publication_dates\n",
    "from scripts.sentiment_analysis import perform_sentiment_analysis\n",
    "from scripts.topic_modeling import perform_topic_modeling\n",
    "from scripts.time_series_analysis import analyze_publication_frequency\n",
    "from scripts.publisher_analysis import analyze_publisher_contributions, analyze_domains\n"
   ]
  },
  {
   "cell_type": "code",
   "execution_count": 3,
   "metadata": {},
   "outputs": [],
   "source": [
    "# Load Data\n",
    "analyst_data = load_analyst_data()"
   ]
  },
  {
   "cell_type": "code",
   "execution_count": 4,
   "metadata": {},
   "outputs": [
    {
     "name": "stdout",
     "output_type": "stream",
     "text": [
      "Headline Length Statistics:\n",
      " count    1.407328e+06\n",
      "mean     7.312051e+01\n",
      "std      4.073531e+01\n",
      "min      3.000000e+00\n",
      "25%      4.700000e+01\n",
      "50%      6.400000e+01\n",
      "75%      8.700000e+01\n",
      "max      5.120000e+02\n",
      "Name: headline_length, dtype: float64\n",
      "Publisher Article Counts:\n",
      " publisher\n",
      "Paul Quintaro                      228373\n",
      "Lisa Levin                         186979\n",
      "Benzinga Newsdesk                  150484\n",
      "Charles Gross                       96732\n",
      "Monica Gerson                       82380\n",
      "                                    ...  \n",
      "Shazir Mucklai - Imperium Group         1\n",
      "Laura Jennings                          1\n",
      "Eric Martin                             1\n",
      "Jose Rodrigo                            1\n",
      "Jeremie Capron                          1\n",
      "Name: count, Length: 1034, dtype: int64\n",
      "Publication Trends:\n",
      " publication_date\n",
      "2009-02-14      1\n",
      "2009-04-27      2\n",
      "2009-04-29      1\n",
      "2009-05-22      1\n",
      "2009-05-27      6\n",
      "             ... \n",
      "2020-05-30     14\n",
      "2020-05-31     17\n",
      "2020-06-01    205\n",
      "2020-06-02    183\n",
      "2020-06-03     69\n",
      "Name: count, Length: 3946, dtype: int64\n"
     ]
    }
   ],
   "source": [
    "# Descriptive Statistics\n",
    "headline_stats = headline_length_statistics(analyst_data)\n",
    "print(\"Headline Length Statistics:\\n\", headline_stats)\n",
    "\n",
    "publisher_counts = count_articles_by_publisher(analyst_data)\n",
    "print(\"Publisher Article Counts:\\n\", publisher_counts)\n",
    "\n",
    "publication_trends = analyze_publication_dates(analyst_data)\n",
    "print(\"Publication Trends:\\n\", publication_trends)\n",
    "\n"
   ]
  },
  {
   "cell_type": "code",
   "execution_count": 5,
   "metadata": {},
   "outputs": [
    {
     "name": "stdout",
     "output_type": "stream",
     "text": [
      "Sentiment Analysis Results:\n",
      "                                             headline  sentiment  positive  \\\n",
      "0            Stocks That Hit 52-Week Highs On Friday      0.000     0.000   \n",
      "1         Stocks That Hit 52-Week Highs On Wednesday      0.000     0.000   \n",
      "2                      71 Biggest Movers From Friday      0.000     0.000   \n",
      "3       46 Stocks Moving In Friday's Mid-Day Session      0.000     0.000   \n",
      "4  B of A Securities Maintains Neutral on Agilent...      0.296     0.167   \n",
      "\n",
      "   neutral  negative  \n",
      "0    1.000       0.0  \n",
      "1    1.000       0.0  \n",
      "2    1.000       0.0  \n",
      "3    1.000       0.0  \n",
      "4    0.833       0.0  \n"
     ]
    }
   ],
   "source": [
    "# Sentiment analysis\n",
    "sentiments = perform_sentiment_analysis(analyst_data['headline'])\n",
    "print(\"Sentiment Analysis Results:\\n\", sentiments.head())\n",
    "sentiments.to_csv('../Data/sentiment_analysis_results_vader.csv', index=False)"
   ]
  },
  {
   "cell_type": "code",
   "execution_count": 6,
   "metadata": {},
   "outputs": [
    {
     "name": "stdout",
     "output_type": "stream",
     "text": [
      "Top words per topic:\n",
      "\n",
      "Topic 1:\n",
      "earnings stocks benzinga scheduled etfs watch etf 2018 2019 10\n",
      "\n",
      "Topic 2:\n",
      "shares trading stocks says companies higher week stock lower 52\n",
      "\n",
      "Topic 3:\n",
      "vs est eps reports sales pt buy raises maintains target\n",
      "\n",
      "Topic 4:\n",
      "new stocks announces week 52 reports industry set highest low\n",
      "\n",
      "Topic 5:\n",
      "market mid stocks update session moving day benzinga biggest downgrades\n"
     ]
    }
   ],
   "source": [
    "# Topic Modeling and print the top 10 results in each topic\n",
    "lda_model, vectorizer = perform_topic_modeling(analyst_data['headline'], num_topics=5, num_top_words=10)\n"
   ]
  },
  {
   "cell_type": "code",
   "execution_count": 7,
   "metadata": {},
   "outputs": [
    {
     "name": "stdout",
     "output_type": "stream",
     "text": [
      "Publication Frequency Over Time:\n",
      " publication_date\n",
      "2009-02-14      1\n",
      "2009-04-27      2\n",
      "2009-04-29      1\n",
      "2009-05-22      1\n",
      "2009-05-27      6\n",
      "             ... \n",
      "2020-05-30     14\n",
      "2020-05-31     17\n",
      "2020-06-01    205\n",
      "2020-06-02    183\n",
      "2020-06-03     69\n",
      "Length: 3946, dtype: int64\n"
     ]
    }
   ],
   "source": [
    "# Time Series Analysis\n",
    "publication_freq = analyze_publication_frequency(analyst_data)\n",
    "print(\"Publication Frequency Over Time:\\n\", publication_freq)\n",
    "\n"
   ]
  },
  {
   "cell_type": "code",
   "execution_count": 8,
   "metadata": {},
   "outputs": [
    {
     "name": "stdout",
     "output_type": "stream",
     "text": [
      "Publisher Contributions:\n",
      " publisher\n",
      "Paul Quintaro                      228373\n",
      "Lisa Levin                         186979\n",
      "Benzinga Newsdesk                  150484\n",
      "Charles Gross                       96732\n",
      "Monica Gerson                       82380\n",
      "                                    ...  \n",
      "Shazir Mucklai - Imperium Group         1\n",
      "Laura Jennings                          1\n",
      "Eric Martin                             1\n",
      "Jose Rodrigo                            1\n",
      "Jeremie Capron                          1\n",
      "Name: count, Length: 1034, dtype: int64\n",
      "Domain Contributions:\n",
      " domain\n",
      "www.benzinga.com    1407328\n",
      "Name: count, dtype: int64\n"
     ]
    }
   ],
   "source": [
    "# Publisher Analysis\n",
    "publisher_contributions = analyze_publisher_contributions(analyst_data)\n",
    "print(\"Publisher Contributions:\\n\", publisher_contributions)\n",
    "\n",
    "domain_contributions = analyze_domains(analyst_data)\n",
    "print(\"Domain Contributions:\\n\", domain_contributions)"
   ]
  }
 ],
 "metadata": {
  "kernelspec": {
   "display_name": "venv",
   "language": "python",
   "name": "python3"
  },
  "language_info": {
   "codemirror_mode": {
    "name": "ipython",
    "version": 3
   },
   "file_extension": ".py",
   "mimetype": "text/x-python",
   "name": "python",
   "nbconvert_exporter": "python",
   "pygments_lexer": "ipython3",
   "version": "3.12.5"
  }
 },
 "nbformat": 4,
 "nbformat_minor": 2
}

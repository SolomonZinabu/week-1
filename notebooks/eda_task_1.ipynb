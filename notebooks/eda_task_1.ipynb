{
 "cells": [
  {
   "cell_type": "code",
   "execution_count": 2,
   "metadata": {},
   "outputs": [
    {
     "name": "stdout",
     "output_type": "stream",
     "text": [
      "None\n"
     ]
    }
   ],
   "source": [
    "# Import necessary modules\n",
    "import sys\n",
    "sys.path.append('../scripts')\n",
    "\n",
    "import data_loader\n",
    "import descriptive_statistics\n",
    "import sentiment_analysis\n",
    "import topic_modeling\n",
    "import time_series_analysis\n",
    "import publisher_analysis\n",
    "\n",
    "# Load Data\n",
    "analyst_data = data_loader.load_analyst_data()\n",
    "\n",
    "# Descriptive Statistics\n",
    "headline_stats = descriptive_statistics.headline_length_statistics(analyst_data)\n",
    "print(\"Headline Length Statistics:\\n\", headline_stats)\n",
    "\n",
    "publisher_counts = descriptive_statistics.count_articles_by_publisher(analyst_data)\n",
    "print(\"Publisher Article Counts:\\n\", publisher_counts)\n",
    "\n",
    "publication_trends = descriptive_statistics.analyze_publication_dates(analyst_data)\n",
    "print(\"Publication Trends:\\n\", publication_trends)\n",
    "\n",
    "# Sentiment Analysis\n",
    "sentiments = sentiment_analysis.perform_sentiment_analysis(analyst_data['headline'])\n",
    "print(\"Sentiment Analysis Results:\\n\", sentiments)\n",
    "\n",
    "# Topic Modeling\n",
    "lda_model, vectorizer = topic_modeling.perform_topic_modeling(analyst_data['headline'])\n",
    "print(\"Topic Modeling Complete\")\n",
    "\n",
    "# Time Series Analysis\n",
    "publication_freq = time_series_analysis.analyze_publication_frequency(analyst_data)\n",
    "print(\"Publication Frequency Over Time:\\n\", publication_freq)\n",
    "\n",
    "# Publisher Analysis\n",
    "publisher_contributions = publisher_analysis.analyze_publisher_contributions(analyst_data)\n",
    "print(\"Publisher Contributions:\\n\", publisher_contributions)\n",
    "\n",
    "domain_contributions = publisher_analysis.analyze_domains(analyst_data)\n",
    "print(\"Domain Contributions:\\n\", domain_contributions)\n"
   ]
  }
 ],
 "metadata": {
  "kernelspec": {
   "display_name": "venv",
   "language": "python",
   "name": "python3"
  },
  "language_info": {
   "codemirror_mode": {
    "name": "ipython",
    "version": 3
   },
   "file_extension": ".py",
   "mimetype": "text/x-python",
   "name": "python",
   "nbconvert_exporter": "python",
   "pygments_lexer": "ipython3",
   "version": "3.12.5"
  }
 },
 "nbformat": 4,
 "nbformat_minor": 2
}

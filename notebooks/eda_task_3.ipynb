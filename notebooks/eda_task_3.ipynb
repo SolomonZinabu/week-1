{
 "cells": [
  {
   "cell_type": "code",
   "execution_count": 9,
   "metadata": {},
   "outputs": [
    {
     "name": "stdout",
     "output_type": "stream",
     "text": [
      "Current directory d:\\Projects\\SolomonProjects\\Kifiya\\week 1\\task-1\\notebooks\n",
      "parrent dir d:\\Projects\\SolomonProjects\\Kifiya\\week 1\\task-1\n"
     ]
    }
   ],
   "source": [
    "import sys\n",
    "import os\n",
    "current_dir = os.getcwd()\n",
    "print ('Current directory', current_dir)\n",
    "parent_dir = os.path.dirname(current_dir)\n",
    "print('parrent dir', parent_dir)\n",
    "sys.path.insert(0, parent_dir)"
   ]
  },
  {
   "cell_type": "code",
   "execution_count": 10,
   "metadata": {},
   "outputs": [],
   "source": [
    "# Import necessary modules\n",
    "from scripts.data_loader import load_analyst_data\n",
    "from scripts.data_preparation import normalize_dates\n",
    "from scripts.data_loader import load_stock_data\n",
    "from scripts.sentiment_analysis import perform_sentiment_analysis2, aggregate_daily_sentiment\n",
    "from scripts.stock_analysis import calculate_daily_returns, calculate_correlation\n"
   ]
  },
  {
   "cell_type": "code",
   "execution_count": 11,
   "metadata": {},
   "outputs": [
    {
     "name": "stdout",
     "output_type": "stream",
     "text": [
      "AAPL_historical_data          Date      Open      High       Low     Close  Adj Close     Volume  \\\n",
      "0  1980-12-12  0.128348  0.128906  0.128348  0.128348   0.098943  469033600   \n",
      "1  1980-12-15  0.122210  0.122210  0.121652  0.121652   0.093781  175884800   \n",
      "2  1980-12-16  0.113281  0.113281  0.112723  0.112723   0.086898  105728000   \n",
      "3  1980-12-17  0.115513  0.116071  0.115513  0.115513   0.089049   86441600   \n",
      "4  1980-12-18  0.118862  0.119420  0.118862  0.118862   0.091630   73449600   \n",
      "\n",
      "   Dividends  Stock Splits  \n",
      "0        0.0           0.0  \n",
      "1        0.0           0.0  \n",
      "2        0.0           0.0  \n",
      "3        0.0           0.0  \n",
      "4        0.0           0.0  \n",
      "AMAN_historical_data          Date      Open      High       Low     Close  Adj Close      Volume  \\\n",
      "0  1997-05-15  0.121875  0.125000  0.096354  0.097917   0.097917  1443120000   \n",
      "1  1997-05-16  0.098438  0.098958  0.085417  0.086458   0.086458   294000000   \n",
      "2  1997-05-19  0.088021  0.088542  0.081250  0.085417   0.085417   122136000   \n",
      "3  1997-05-20  0.086458  0.087500  0.081771  0.081771   0.081771   109344000   \n",
      "4  1997-05-21  0.081771  0.082292  0.068750  0.071354   0.071354   377064000   \n",
      "\n",
      "   Dividends  Stock Splits  \n",
      "0        0.0           0.0  \n",
      "1        0.0           0.0  \n",
      "2        0.0           0.0  \n",
      "3        0.0           0.0  \n",
      "4        0.0           0.0  \n",
      "GOOF_historical_data          Date      Open      High       Low     Close  Adj Close     Volume  \\\n",
      "0  2004-08-19  2.490664  2.591785  2.390042  2.499133   2.496292  897427216   \n",
      "1  2004-08-20  2.515820  2.716817  2.503118  2.697639   2.694573  458857488   \n",
      "2  2004-08-23  2.758411  2.826406  2.716070  2.724787   2.721690  366857939   \n",
      "3  2004-08-24  2.770615  2.779581  2.579581  2.611960   2.608991  306396159   \n",
      "4  2004-08-25  2.614201  2.689918  2.587302  2.640104   2.637103  184645512   \n",
      "\n",
      "   Dividends  Stock Splits  \n",
      "0        0.0           0.0  \n",
      "1        0.0           0.0  \n",
      "2        0.0           0.0  \n",
      "3        0.0           0.0  \n",
      "4        0.0           0.0  \n",
      "META_historical_data          Date       Open       High        Low      Close  Adj Close  \\\n",
      "0  2012-12-12  28.000000  28.139999  27.370001  27.580000  27.523441   \n",
      "1  2012-12-13  27.590000  28.750000  27.430000  28.240000  28.182087   \n",
      "2  2012-12-14  28.180000  28.330000  26.760000  26.809999  26.755020   \n",
      "3  2012-12-17  26.770000  27.000000  26.320000  26.750000  26.695143   \n",
      "4  2012-12-18  26.959999  27.910000  26.900000  27.709999  27.653173   \n",
      "\n",
      "     Volume  Dividends  Stock Splits  \n",
      "0  46704200        0.0           0.0  \n",
      "1  81051600        0.0           0.0  \n",
      "2  91631600        0.0           0.0  \n",
      "3  57742500        0.0           0.0  \n",
      "4  60512900        0.0           0.0  \n",
      "MSFT_historical_data          Date      Open      High       Low     Close  Adj Close      Volume  \\\n",
      "0  1986-03-13  0.088542  0.101563  0.088542  0.097222   0.059946  1031788800   \n",
      "1  1986-03-14  0.097222  0.102431  0.097222  0.100694   0.062087   308160000   \n",
      "2  1986-03-17  0.100694  0.103299  0.100694  0.102431   0.063158   133171200   \n",
      "3  1986-03-18  0.102431  0.103299  0.098958  0.099826   0.061552    67766400   \n",
      "4  1986-03-19  0.099826  0.100694  0.097222  0.098090   0.060482    47894400   \n",
      "\n",
      "   Dividends  Stock Splits  \n",
      "0        0.0           0.0  \n",
      "1        0.0           0.0  \n",
      "2        0.0           0.0  \n",
      "3        0.0           0.0  \n",
      "4        0.0           0.0  \n",
      "NVDA_historical_data          Date      Open      High       Low     Close  Adj Close      Volume  \\\n",
      "0  1999-01-22  0.043750  0.048828  0.038802  0.041016   0.037621  2714688000   \n",
      "1  1999-01-25  0.044271  0.045833  0.041016  0.045313   0.041562   510480000   \n",
      "2  1999-01-26  0.045833  0.046745  0.041146  0.041797   0.038337   343200000   \n",
      "3  1999-01-27  0.041927  0.042969  0.039583  0.041667   0.038218   244368000   \n",
      "4  1999-01-28  0.041667  0.041927  0.041276  0.041536   0.038098   227520000   \n",
      "\n",
      "   Dividends  Stock Splits  \n",
      "0        0.0           0.0  \n",
      "1        0.0           0.0  \n",
      "2        0.0           0.0  \n",
      "3        0.0           0.0  \n",
      "4        0.0           0.0  \n",
      "TSLA_historical_data          Date      Open      High       Low     Close  Adj Close     Volume  \\\n",
      "0  2010-06-29  1.266667  1.666667  1.169333  1.592667   1.592667  281494500   \n",
      "1  2010-06-30  1.719333  2.028000  1.553333  1.588667   1.588667  257806500   \n",
      "2  2010-07-01  1.666667  1.728000  1.351333  1.464000   1.464000  123282000   \n",
      "3  2010-07-02  1.533333  1.540000  1.247333  1.280000   1.280000   77097000   \n",
      "4  2010-07-06  1.333333  1.333333  1.055333  1.074000   1.074000  103003500   \n",
      "\n",
      "   Dividends  Stock Splits  \n",
      "0        0.0           0.0  \n",
      "1        0.0           0.0  \n",
      "2        0.0           0.0  \n",
      "3        0.0           0.0  \n",
      "4        0.0           0.0  \n"
     ]
    }
   ],
   "source": [
    "# Load Data\n",
    "news_data = load_analyst_data()\n",
    "# Load stock data\n",
    "\n",
    "aapl_data = load_stock_data('../Data/yfinance_data/AAPL_historical_data.csv')\n",
    "amzn_data = load_stock_data('../Data/yfinance_data/AMZN_historical_data.csv')\n",
    "goog_data = load_stock_data('../Data/yfinance_data/GOOG_historical_data.csv')\n",
    "meta_data = load_stock_data('../Data/yfinance_data/META_historical_data.csv')\n",
    "msft_data = load_stock_data('../Data/yfinance_data/MSFT_historical_data.csv')\n",
    "nvda_data = load_stock_data('../Data/yfinance_data/NVDA_historical_data.csv')\n",
    "tsla_data = load_stock_data('../Data/yfinance_data/TSLA_historical_data.csv')\n",
    "print('AAPL_historical_data', aapl_data.head())\n",
    "print('AMAN_historical_data', amzn_data.head())\n",
    "print('GOOF_historical_data', goog_data.head())\n",
    "print('META_historical_data', meta_data.head())\n",
    "print('MSFT_historical_data', msft_data.head())\n",
    "print('NVDA_historical_data', nvda_data.head())\n",
    "print('TSLA_historical_data', tsla_data.head())"
   ]
  },
  {
   "cell_type": "code",
   "execution_count": 12,
   "metadata": {},
   "outputs": [
    {
     "name": "stdout",
     "output_type": "stream",
     "text": [
      "Data normalized\n"
     ]
    }
   ],
   "source": [
    "# Prepare Data\n",
    "news_data, aapl_data = normalize_dates(news_data, aapl_data)\n",
    "news_data, amzn_data = normalize_dates(news_data, amzn_data)\n",
    "news_data, goog_data = normalize_dates(news_data, goog_data)\n",
    "news_data, meta_data = normalize_dates(news_data, meta_data)\n",
    "news_data, msft_data = normalize_dates(news_data, msft_data)\n",
    "news_data, nvda_data = normalize_dates(news_data, nvda_data)\n",
    "news_data, tsla_data = normalize_dates(news_data, tsla_data)\n",
    "\n",
    "print('Data normalized')"
   ]
  },
  {
   "cell_type": "code",
   "execution_count": 13,
   "metadata": {},
   "outputs": [
    {
     "name": "stdout",
     "output_type": "stream",
     "text": [
      "  date                                           headline  sentiment\n",
      "0  NaT            Stocks That Hit 52-Week Highs On Friday      0.000\n",
      "1  NaT         Stocks That Hit 52-Week Highs On Wednesday      0.000\n",
      "2  NaT                      71 Biggest Movers From Friday      0.000\n",
      "3  NaT       46 Stocks Moving In Friday's Mid-Day Session      0.000\n",
      "4  NaT  B of A Securities Maintains Neutral on Agilent...      0.296\n"
     ]
    }
   ],
   "source": [
    "# Sentiment Analysis\n",
    "news_data['sentiment'] = perform_sentiment_analysis2(news_data['headline'])\n",
    "print(news_data[['date', 'headline', 'sentiment']].head())"
   ]
  },
  {
   "cell_type": "code",
   "execution_count": 14,
   "metadata": {},
   "outputs": [
    {
     "name": "stdout",
     "output_type": "stream",
     "text": [
      "Daily Returns Calculated.\n",
      "         date  sentiment\n",
      "0  2009-02-14    0.22630\n",
      "1  2009-04-27    0.00000\n",
      "2  2009-04-29    0.00000\n",
      "3  2009-05-22    0.00000\n",
      "4  2009-05-27    0.75105\n"
     ]
    }
   ],
   "source": [
    "# Aggregate Daily Sentiment\n",
    "daily_sentiment = aggregate_daily_sentiment(news_data)\n",
    "\n",
    "print(\"Daily Returns Calculated.\")\n",
    "print(daily_sentiment.head())"
   ]
  },
  {
   "cell_type": "code",
   "execution_count": 15,
   "metadata": {},
   "outputs": [
    {
     "name": "stdout",
     "output_type": "stream",
     "text": [
      "Daily Returns Calculated.\n",
      "AAPL Data Sample:          Date     Close  daily_return\n",
      "0  1980-12-12  0.128348           NaN\n",
      "1  1980-12-15  0.121652     -0.052171\n",
      "2  1980-12-16  0.112723     -0.073398\n",
      "3  1980-12-17  0.115513      0.024751\n",
      "4  1980-12-18  0.118862      0.028992\n",
      "AMZN Data Sample:          Date     Close  daily_return\n",
      "0  1997-05-15  0.097917           NaN\n",
      "1  1997-05-16  0.086458     -0.117028\n",
      "2  1997-05-19  0.085417     -0.012040\n",
      "3  1997-05-20  0.081771     -0.042685\n",
      "4  1997-05-21  0.071354     -0.127392\n",
      "GOOG Data Sample:          Date     Close  daily_return\n",
      "0  2004-08-19  2.499133           NaN\n",
      "1  2004-08-20  2.697639      0.079430\n",
      "2  2004-08-23  2.724787      0.010064\n",
      "3  2004-08-24  2.611960     -0.041408\n",
      "4  2004-08-25  2.640104      0.010775\n",
      "META Data Sample:          Date      Close  daily_return\n",
      "0  2012-12-12  27.580000           NaN\n",
      "1  2012-12-13  28.240000      0.023930\n",
      "2  2012-12-14  26.809999     -0.050637\n",
      "3  2012-12-17  26.750000     -0.002238\n",
      "4  2012-12-18  27.709999      0.035888\n",
      "MSFT Data Sample:          Date     Close  daily_return\n",
      "0  1986-03-13  0.097222           NaN\n",
      "1  1986-03-14  0.100694      0.035712\n",
      "2  1986-03-17  0.102431      0.017250\n",
      "3  1986-03-18  0.099826     -0.025432\n",
      "4  1986-03-19  0.098090     -0.017390\n",
      "NVDA Data Sample:          Date     Close  daily_return\n",
      "0  1999-01-22  0.041016           NaN\n",
      "1  1999-01-25  0.045313      0.104764\n",
      "2  1999-01-26  0.041797     -0.077594\n",
      "3  1999-01-27  0.041667     -0.003110\n",
      "4  1999-01-28  0.041536     -0.003144\n",
      "TSLA Data Sample:          Date     Close  daily_return\n",
      "0  2010-06-29  1.592667           NaN\n",
      "1  2010-06-30  1.588667     -0.002511\n",
      "2  2010-07-01  1.464000     -0.078473\n",
      "3  2010-07-02  1.280000     -0.125683\n",
      "4  2010-07-06  1.074000     -0.160937\n"
     ]
    }
   ],
   "source": [
    "# Calculate Daily Stock Returns\n",
    "aapl_data['daily_return'] = calculate_daily_returns(aapl_data['Close'])\n",
    "amzn_data['daily_return'] = calculate_daily_returns(amzn_data['Close'])\n",
    "goog_data['daily_return'] = calculate_daily_returns(goog_data['Close'])\n",
    "meta_data['daily_return'] = calculate_daily_returns(meta_data['Close'])\n",
    "msft_data['daily_return'] = calculate_daily_returns(msft_data['Close'])\n",
    "nvda_data['daily_return'] = calculate_daily_returns(nvda_data['Close'])\n",
    "tsla_data['daily_return'] = calculate_daily_returns(tsla_data['Close'])\n",
    "\n",
    "print(\"Daily Returns Calculated.\")\n",
    "print(\"AAPL Data Sample:\",aapl_data[['Date', 'Close', 'daily_return']].head())\n",
    "print(\"AMZN Data Sample:\",amzn_data[['Date', 'Close', 'daily_return']].head())\n",
    "print(\"GOOG Data Sample:\",goog_data[['Date', 'Close', 'daily_return']].head())\n",
    "print(\"META Data Sample:\",meta_data[['Date', 'Close', 'daily_return']].head())\n",
    "print(\"MSFT Data Sample:\",msft_data[['Date', 'Close', 'daily_return']].head())\n",
    "print(\"NVDA Data Sample:\",nvda_data[['Date', 'Close', 'daily_return']].head())\n",
    "print(\"TSLA Data Sample:\",tsla_data[['Date', 'Close', 'daily_return']].head()) \n",
    "\n",
    "\n"
   ]
  },
  {
   "cell_type": "code",
   "execution_count": 16,
   "metadata": {},
   "outputs": [
    {
     "name": "stdout",
     "output_type": "stream",
     "text": [
      "Correlation between daily sentiment and AAPL stock returns: 0.04162507823720449\n",
      "Correlation between daily sentiment and AMZN stock returns: 0.026429115245863288\n",
      "Correlation between daily sentiment and GOOG stock returns: 0.04108074179440448\n",
      "Correlation between daily sentiment and META stock returns: 0.03990106501486247\n",
      "Correlation between daily sentiment and MSFT stock returns: 0.038310684649633345\n",
      "Correlation between daily sentiment and NVDA stock returns: 0.0351314788985557\n",
      "Correlation between daily sentiment and TSLA stock returns: 0.02636072639038743\n"
     ]
    }
   ],
   "source": [
    "# Correlation Analysis\n",
    "\n",
    "aapl_correlation = calculate_correlation(news_data, aapl_data)\n",
    "amzn_correlation = calculate_correlation(news_data, amzn_data)\n",
    "goog_correlation = calculate_correlation(news_data, goog_data)\n",
    "meta_correlation = calculate_correlation(news_data, meta_data)\n",
    "msft_correlation = calculate_correlation(news_data, msft_data)\n",
    "nvda_correlation = calculate_correlation(news_data, nvda_data)\n",
    "tsla_correlation = calculate_correlation(news_data, tsla_data)\n",
    "\n",
    "print(\"Correlation between daily sentiment and AAPL stock returns:\", aapl_correlation)\n",
    "print(\"Correlation between daily sentiment and AMZN stock returns:\", amzn_correlation)\n",
    "print(\"Correlation between daily sentiment and GOOG stock returns:\", goog_correlation)\n",
    "print(\"Correlation between daily sentiment and META stock returns:\", meta_correlation)\n",
    "print(\"Correlation between daily sentiment and MSFT stock returns:\", msft_correlation)\n",
    "print(\"Correlation between daily sentiment and NVDA stock returns:\", nvda_correlation)\n",
    "print(\"Correlation between daily sentiment and TSLA stock returns:\", tsla_correlation)\n"
   ]
  }
 ],
 "metadata": {
  "kernelspec": {
   "display_name": "venv",
   "language": "python",
   "name": "python3"
  },
  "language_info": {
   "codemirror_mode": {
    "name": "ipython",
    "version": 3
   },
   "file_extension": ".py",
   "mimetype": "text/x-python",
   "name": "python",
   "nbconvert_exporter": "python",
   "pygments_lexer": "ipython3",
   "version": "3.12.5"
  }
 },
 "nbformat": 4,
 "nbformat_minor": 2
}

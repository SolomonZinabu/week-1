{
 "cells": [
  {
   "cell_type": "code",
   "execution_count": null,
   "metadata": {},
   "outputs": [],
   "source": [
    "import pandas as pd\n",
    "import seaborn as sns\n",
    "import matplotlib.pyplot as plt\n",
    "\n",
    "# Load the datasets\n",
    "analyst_ratings = pd.read_csv('../Data/raw_analyst_ratings.csv')\n",
    "stock_data = pd.read_csv('../Data/yfinance_data/AAPL_historical_data.csv')\n",
    "\n",
    "# Explore the news dataset\n",
    "print(analyst_ratings.info())\n",
    "print(analyst_ratings.describe())\n",
    "\n",
    "# Explore stock data\n",
    "print(stock_data.info())\n",
    "print(stock_data.describe())\n",
    "\n",
    "# Plotting stock data trends\n",
    "sns.lineplot(data=stock_data, x='Date', y='Close')\n",
    "plt.title(\"Stock Price Over Time\")\n",
    "plt.show()\n",
    "\n"
   ]
  }
 ],
 "metadata": {
  "language_info": {
   "name": "python"
  }
 },
 "nbformat": 4,
 "nbformat_minor": 2
}
